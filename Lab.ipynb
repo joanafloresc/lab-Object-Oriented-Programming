{
 "cells": [
  {
   "cell_type": "markdown",
   "id": "77a9f8e5",
   "metadata": {},
   "source": [
    "# Lab"
   ]
  },
  {
   "cell_type": "markdown",
   "id": "f568ee1a",
   "metadata": {},
   "source": [
    "Create a Python Tv class with a constructor and the following attributes:\\\n",
    "\n",
    "### Constructor\n",
    ".on (Boolean)\\\n",
    ".volume (float in [0,100])\\\n",
    ".active_channel (int in [1,10])\\\n",
    ".input (str in [\"Anthena\", \"HDMI1\", \"HDMI2\", \"HDMI3\"])\\\n",
    ".size (float in [42, 50, 55, 65, 75])"
   ]
  },
  {
   "cell_type": "markdown",
   "id": "231db79d",
   "metadata": {},
   "source": [
    "### Methods\n",
    ".switch_on()\\\n",
    ".switch_off()\\\n",
    ".set_volume(volume: int)\\\n",
    ".change_channel(channel: int)\\\n",
    ".set_input(value: str)"
   ]
  },
  {
   "cell_type": "code",
   "execution_count": 122,
   "id": "31598a83",
   "metadata": {},
   "outputs": [],
   "source": [
    "class TV(object):\n",
    "    in_put = []\n",
    "        # Constructor method of the class.\n",
    "    def __init__(self, on=False, volume=0, channel=1, in_put='Anthena', size=42):\n",
    "        # self is the instance of the class.\n",
    "        self.on = on \n",
    "        self.volume = volume\n",
    "        self.channel = channel\n",
    "        self.in_put = in_put \n",
    "        self.size = size if size in(42,50,55,65,75) else 42\n",
    "    \n",
    "    def showTV(self):\n",
    "        print(self.on, self.volume, self.channel, self.in_put, self.size)\n",
    "\n",
    "    def switch_on(self):\n",
    "        if self.on == True: \n",
    "            print('TV is already switched on')\n",
    "        else:\n",
    "            self.on = True\n",
    "            print('TV is switched on')\n",
    "   \n",
    "    def switch_off(self):\n",
    "        if self.on == False: \n",
    "            print('TV is already switched off')\n",
    "        else:\n",
    "            self.on = False\n",
    "            print('TV is switched off')\n",
    "        \n",
    "    def set_volume(self, value):\n",
    "        print('current volume:', self.volume)\n",
    "        self.volume = value if value in range(101) else 10\n",
    "        print('new volume:', self.volume)\n",
    "    \n",
    "    def change_channel(self, value):\n",
    "        print('current channel:', self.channel)\n",
    "        self.channel = value if value in range(11) else 1\n",
    "        print('new channel:', self.channel)\n",
    "    \n",
    "    def set_input(self, value):\n",
    "        print('current input:', self.in_put)\n",
    "        self.in_put=value if value in(\"Anthena\", \"HDMI1\", \"HDMI2\", \"HDMI3\") else 'Anthena'\n",
    "        print('new input:', self.in_put)"
   ]
  },
  {
   "cell_type": "code",
   "execution_count": 123,
   "id": "948b06de",
   "metadata": {},
   "outputs": [
    {
     "name": "stdout",
     "output_type": "stream",
     "text": [
      "False 150 1 Anthena 42\n"
     ]
    }
   ],
   "source": [
    "myTV = TV(volume=150,size=100)\n",
    "TV.showTV(myTV)"
   ]
  },
  {
   "cell_type": "code",
   "execution_count": 124,
   "id": "482af6cf",
   "metadata": {},
   "outputs": [
    {
     "name": "stdout",
     "output_type": "stream",
     "text": [
      "TV is switched on\n"
     ]
    }
   ],
   "source": [
    "TV.switch_on(myTV)"
   ]
  },
  {
   "cell_type": "code",
   "execution_count": 125,
   "id": "4d61b6e4",
   "metadata": {},
   "outputs": [
    {
     "name": "stdout",
     "output_type": "stream",
     "text": [
      "TV is already switched on\n"
     ]
    }
   ],
   "source": [
    "TV.switch_on(myTV)"
   ]
  },
  {
   "cell_type": "code",
   "execution_count": 126,
   "id": "aa302cfc",
   "metadata": {},
   "outputs": [
    {
     "name": "stdout",
     "output_type": "stream",
     "text": [
      "TV is switched off\n"
     ]
    }
   ],
   "source": [
    "TV.switch_off(myTV)"
   ]
  },
  {
   "cell_type": "code",
   "execution_count": 127,
   "id": "ed531cc9",
   "metadata": {},
   "outputs": [
    {
     "name": "stdout",
     "output_type": "stream",
     "text": [
      "current volume: 150\n",
      "new volume: 50\n"
     ]
    }
   ],
   "source": [
    "TV.set_volume(myTV, 50)"
   ]
  },
  {
   "cell_type": "code",
   "execution_count": 128,
   "id": "ef5dee5c",
   "metadata": {},
   "outputs": [
    {
     "name": "stdout",
     "output_type": "stream",
     "text": [
      "current volume: 50\n",
      "new volume: 10\n"
     ]
    }
   ],
   "source": [
    "TV.set_volume(myTV, 104)"
   ]
  },
  {
   "cell_type": "code",
   "execution_count": 129,
   "id": "ef143e28",
   "metadata": {},
   "outputs": [
    {
     "name": "stdout",
     "output_type": "stream",
     "text": [
      "current channel: 1\n",
      "new channel: 1\n"
     ]
    }
   ],
   "source": [
    "TV.change_channel(myTV, 15)"
   ]
  },
  {
   "cell_type": "code",
   "execution_count": 130,
   "id": "6fe63201",
   "metadata": {},
   "outputs": [
    {
     "name": "stdout",
     "output_type": "stream",
     "text": [
      "current input: Anthena\n",
      "new input: HDMI1\n"
     ]
    }
   ],
   "source": [
    "TV.set_input(myTV, 'HDMI1')"
   ]
  },
  {
   "cell_type": "code",
   "execution_count": 131,
   "id": "ad34ede7",
   "metadata": {},
   "outputs": [
    {
     "name": "stdout",
     "output_type": "stream",
     "text": [
      "current input: HDMI1\n",
      "new input: Anthena\n"
     ]
    }
   ],
   "source": [
    "TV.set_input(myTV, 'adsfsdfk')"
   ]
  },
  {
   "cell_type": "code",
   "execution_count": null,
   "id": "485c4106",
   "metadata": {},
   "outputs": [],
   "source": []
  }
 ],
 "metadata": {
  "kernelspec": {
   "display_name": "Python 3 (ipykernel)",
   "language": "python",
   "name": "python3"
  },
  "language_info": {
   "codemirror_mode": {
    "name": "ipython",
    "version": 3
   },
   "file_extension": ".py",
   "mimetype": "text/x-python",
   "name": "python",
   "nbconvert_exporter": "python",
   "pygments_lexer": "ipython3",
   "version": "3.9.13"
  }
 },
 "nbformat": 4,
 "nbformat_minor": 5
}
